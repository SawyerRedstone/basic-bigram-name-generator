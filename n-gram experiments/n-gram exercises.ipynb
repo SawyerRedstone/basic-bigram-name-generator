{
 "cells": [
  {
   "cell_type": "markdown",
   "id": "67d41879-2147-47a3-b10e-517a665d14f3",
   "metadata": {},
   "source": [
    "# N-Gram Language Model Exercises\n",
    "Inspired by Andrej Karpathy's first Makemore video. Here I'll try to reproduce what I learned from scratch and add additional features."
   ]
  },
  {
   "cell_type": "markdown",
   "id": "6e798106-4684-4803-a2e8-6215e25e0b71",
   "metadata": {},
   "source": [
    "We'll start by making a bigram language model. We'll train it on names so it learns to produce names of its own based on what it learned from the data."
   ]
  },
  {
   "cell_type": "code",
   "execution_count": 1,
   "id": "01964050-2833-478b-ad93-786d50a5ca49",
   "metadata": {},
   "outputs": [],
   "source": [
    "import torch                       # Tensors and backpropagation.\n",
    "import matplotlib.pyplot as plt    # Graphing capabilities."
   ]
  },
  {
   "cell_type": "code",
   "execution_count": 2,
   "id": "23da100d-2c5b-47bc-978e-784256ab5774",
   "metadata": {},
   "outputs": [
    {
     "name": "stdout",
     "output_type": "stream",
     "text": [
      "Displaying the first three names: ['emma', 'olivia', 'ava']\n"
     ]
    }
   ],
   "source": [
    "# Create a list of each name in names.txt\n",
    "names = open(\"names.txt\", \"r\").read().splitlines()\n",
    "print(f\"Displaying the first three names: {names[:3]}\")"
   ]
  },
  {
   "cell_type": "markdown",
   "id": "ee68b090-608d-4361-b2bb-9eccf95baf57",
   "metadata": {},
   "source": [
    "Now that we have our data, let's split it into bigrams so the model can learn common letter patterns in names. We also want it to learn how each name starts and ends, so let's indicate the start and end of a name with a \".\". Below shows an example of the bigrams in the name Emma."
   ]
  },
  {
   "cell_type": "code",
   "execution_count": 3,
   "id": "626b587d-a305-430b-beb0-56f9ea43f841",
   "metadata": {},
   "outputs": [
    {
     "name": "stdout",
     "output_type": "stream",
     "text": [
      "Bigrams for emma: [('.', 'e'), ('e', 'm'), ('m', 'm'), ('m', 'a'), ('a', '.')]\n"
     ]
    }
   ],
   "source": [
    "# Break \"emma\" into bigrams, including \".\" for start and end.\n",
    "print(f\"Bigrams for emma: {list(zip('.emma', 'emma.'))}\")"
   ]
  },
  {
   "cell_type": "markdown",
   "id": "1f9862de-7eb5-4725-b142-d252dd929ca5",
   "metadata": {},
   "source": [
    "We want this model to take a character as input and predict which character comes next. For that, we want two tensors.\n",
    "\n",
    "X (the input) should contain the first half of the bigrams.\n",
    "\n",
    "y (the label) should contain the solutions, AKA the letter that comes next.\n",
    "\n",
    "Since PyTorch tensors can't contain character elements, let's first assign each letter to an integer value."
   ]
  },
  {
   "cell_type": "code",
   "execution_count": 4,
   "id": "cb4007fb-5a85-46bd-b671-aef040f0b5e9",
   "metadata": {},
   "outputs": [
    {
     "name": "stdout",
     "output_type": "stream",
     "text": [
      "{'.': 0, 'a': 1, 'b': 2, 'c': 3, 'd': 4, 'e': 5, 'f': 6, 'g': 7, 'h': 8, 'i': 9, 'j': 10, 'k': 11, 'l': 12, 'm': 13, 'n': 14, 'o': 15, 'p': 16, 'q': 17, 'r': 18, 's': 19, 't': 20, 'u': 21, 'v': 22, 'w': 23, 'x': 24, 'y': 25, 'z': 26}\n"
     ]
    }
   ],
   "source": [
    "import string\n",
    "\n",
    "# For each letter + \".\", add them to dict with an integer value.\n",
    "stoi = {char:int_val for (int_val, char) in enumerate(\".\" + string.ascii_lowercase)}\n",
    "print(stoi)"
   ]
  },
  {
   "cell_type": "markdown",
   "id": "2815c0af-01ef-4f8b-852e-1dc54c8b1af0",
   "metadata": {},
   "source": [
    "<!-- Now we'll get the bigrams for all the names and split them into two tensors, X and y. -->\n",
    "<!-- Now we are ready to get bigrams for all the names  and put them into tensors X and y. -->\n",
    "Now we are ready to make our bigrams for the data."
   ]
  },
  {
   "cell_type": "code",
   "execution_count": 5,
   "id": "a97fd295-280f-43ca-a442-5de4ef35221a",
   "metadata": {},
   "outputs": [
    {
     "name": "stdout",
     "output_type": "stream",
     "text": [
      "The first 10 values in X are [0, 5, 13, 13, 1, 0, 15, 12, 9, 22].\n",
      "The first 10 values in y are [5, 13, 13, 1, 0, 15, 12, 9, 22, 9].\n"
     ]
    }
   ],
   "source": [
    "X = [] # First letters in bigrams\n",
    "y = [] # X's bigram pairs.\n",
    "\n",
    "for name in names:\n",
    "    for char1, char2 in zip(\".\" + name, name + \".\"):\n",
    "        # Convert chars to ints so we can later add to tensors.\n",
    "        X.append(stoi[char1])\n",
    "        y.append(stoi[char2])\n",
    "\n",
    "\n",
    "print(f\"The first 10 values in X are {X[:10]}.\")\n",
    "print(f\"The first 10 values in y are {y[:10]}.\")\n",
    "# Convert list to a tensor.\n",
    "X = torch.tensor(X)\n",
    "y = torch.tensor(y)"
   ]
  },
  {
   "cell_type": "markdown",
   "id": "b3a7ed58-185f-445d-878b-20cad9d1dd62",
   "metadata": {},
   "source": [
    "<!-- Now we are ready to get started on our neural network. Before we can make input our Xs, however,  -->\n",
    "<!-- Before we can input this data into our  -->\n",
    "<!-- Now we are ready to get started on our neural network.  -->\n",
    "<!-- For this we will use a very basic network with only a single layer of neurons. -->\n",
    "Now our data is almost ready for use in our neural network. But we don't actually want our network's weights to be multiplied by the integers in X. Instead, we'll use one-hot encoding so all possible letters are treated equally: as an array of 0s and a single 1 in the index signifying our letter."
   ]
  },
  {
   "cell_type": "code",
   "execution_count": 10,
   "id": "1f173b44-4bb1-485e-8aee-3d49fd3945e2",
   "metadata": {},
   "outputs": [
    {
     "name": "stdout",
     "output_type": "stream",
     "text": [
      "tensor([[1., 0., 0., 0., 0., 0., 0., 0., 0., 0., 0., 0., 0., 0., 0., 0., 0., 0.,\n",
      "         0., 0., 0., 0., 0., 0., 0., 0., 0.],\n",
      "        [0., 0., 0., 0., 0., 1., 0., 0., 0., 0., 0., 0., 0., 0., 0., 0., 0., 0.,\n",
      "         0., 0., 0., 0., 0., 0., 0., 0., 0.],\n",
      "        [0., 0., 0., 0., 0., 0., 0., 0., 0., 0., 0., 0., 0., 1., 0., 0., 0., 0.,\n",
      "         0., 0., 0., 0., 0., 0., 0., 0., 0.],\n",
      "        [0., 0., 0., 0., 0., 0., 0., 0., 0., 0., 0., 0., 0., 1., 0., 0., 0., 0.,\n",
      "         0., 0., 0., 0., 0., 0., 0., 0., 0.],\n",
      "        [0., 1., 0., 0., 0., 0., 0., 0., 0., 0., 0., 0., 0., 0., 0., 0., 0., 0.,\n",
      "         0., 0., 0., 0., 0., 0., 0., 0., 0.]])\n"
     ]
    }
   ],
   "source": [
    "import torch.nn.functional as F\n",
    "\n",
    "# One-hot encode X to turn each letter into an array of length 27 (one index for each possible letter including \".\".)\n",
    "Xenc = F.one_hot(X, num_classes = 27)\n",
    "# We want the neural net to produce floats, so the inputs must be floats as well.\n",
    "Xenc = Xenc.float()\n",
    "# View first 5 encodings.\n",
    "print(Xenc[:5])\n",
    "# plt.imshow(Xenc[:5])"
   ]
  },
  {
   "cell_type": "markdown",
   "id": "25f2ce8a-281e-4ba2-b1c8-1a2ba14202d8",
   "metadata": {},
   "source": [
    "<!-- Now let's make our neural net. For this we'll use a very simple neural network with only a single layer of neurons.  -->\n",
    "<!-- Now we're ready to make our neural net. We'll give each  -->\n",
    "\n",
    "First, let's explore what this neural net would look like with only a single neuron. Even though it is only one neuron, it will need to have 27 weights, since all our inputs are size 27 and we need a weight for each element within them."
   ]
  },
  {
   "cell_type": "code",
   "execution_count": 38,
   "id": "aada1ff3-53ff-4a9c-8f28-3721315ec2df",
   "metadata": {},
   "outputs": [
    {
     "data": {
      "text/plain": [
       "tensor([[ 1.9269],\n",
       "        [ 1.4873],\n",
       "        [ 0.9007],\n",
       "        [-2.1055],\n",
       "        [ 0.6784],\n",
       "        [-1.2345],\n",
       "        [-0.0431],\n",
       "        [-1.6047],\n",
       "        [-0.7521],\n",
       "        [ 1.6487],\n",
       "        [-0.3925],\n",
       "        [ 0.2415],\n",
       "        [-1.1109],\n",
       "        [ 0.0915],\n",
       "        [-2.3169],\n",
       "        [-0.2168],\n",
       "        [-1.3847],\n",
       "        [-0.8712],\n",
       "        [-0.2234],\n",
       "        [-0.6216],\n",
       "        [-0.5920],\n",
       "        [-0.0631],\n",
       "        [-0.8286],\n",
       "        [ 0.3309],\n",
       "        [-1.5576],\n",
       "        [ 0.9956],\n",
       "        [-0.8798]])"
      ]
     },
     "execution_count": 38,
     "metadata": {},
     "output_type": "execute_result"
    }
   ],
   "source": [
    "# Set a seed for the random generations.\n",
    "gen = torch.Generator().manual_seed(42)\n",
    "\n",
    "# A single neuron with one weight for each element in our input.\n",
    "W = torch.randn((27, 1), generator=gen)    # Weights are random nums from normal distribution.\n",
    "W"
   ]
  },
  {
   "cell_type": "markdown",
   "id": "8655ed2f-f9c9-4c81-9e7c-da11a1c82503",
   "metadata": {},
   "source": [
    "The first letter in X is \".\", which is encoded as a 1 followed by 26 zeros. Thus, multiplying it with W would apply the dot product, selecting the first row of W (since all the other weights would get multiplied by 0)."
   ]
  },
  {
   "cell_type": "code",
   "execution_count": 27,
   "id": "eff33f14-2848-4abb-b986-8de7a5f697b3",
   "metadata": {},
   "outputs": [
    {
     "data": {
      "text/plain": [
       "tensor([1.9269])"
      ]
     },
     "execution_count": 27,
     "metadata": {},
     "output_type": "execute_result"
    }
   ],
   "source": [
    "# We expect the outcome here to be equal to W[0].\n",
    "Xenc[0] @ W"
   ]
  },
  {
   "cell_type": "markdown",
   "id": "9888804f-435a-474b-92d6-897a4553b3ba",
   "metadata": {},
   "source": [
    "<!-- This only gives us a single value per input. We want  -->\n",
    "<!-- This value can be used to calculate the probability  -->\n",
    "A single neuron isn't enough here, since we need a neuron for each possible bigram pair so we can use it can calculate their probabilities. We can fix this by using a full layer of 27 neurons, one for each possible label.\n",
    "\n",
    "<!-- Instead, let's make this layer contain a neuron for each possible label -->"
   ]
  },
  {
   "cell_type": "code",
   "execution_count": 43,
   "id": "97b3146d-410a-4178-809e-64fd8bbb98a1",
   "metadata": {},
   "outputs": [
    {
     "data": {
      "text/plain": [
       "tensor([ 1.9269,  1.4873,  0.9007, -2.1055,  0.6784, -1.2345, -0.0431, -1.6047,\n",
       "        -0.7521,  1.6487, -0.3925, -1.4036, -0.7279, -0.5594, -0.7688,  0.7624,\n",
       "         1.6423, -0.1596, -0.4974,  0.4396, -0.7581,  1.0783,  0.8008,  1.6806,\n",
       "         1.2791,  1.2964,  0.6105])"
      ]
     },
     "execution_count": 43,
     "metadata": {},
     "output_type": "execute_result"
    }
   ],
   "source": [
    "# Resetting generator so cell always gives same numbers instead of generating the next numbers.\n",
    "gen = torch.Generator().manual_seed(42)\n",
    "\n",
    "# New weights should have 27 columns: one for each neuron.\n",
    "W = torch.randn((27, 27), generator = gen)\n",
    "# Let's take a peek at the first row of weights.\n",
    "W[0]"
   ]
  },
  {
   "cell_type": "markdown",
   "id": "c24b6683-3fef-4c91-9c29-ad00cd258324",
   "metadata": {},
   "source": [
    "<!-- Now multiplying it by Xenc should result in a vector of length 27, as it will -->\n",
    "Now the code `Xenc[0] @ W` will instead select the first weight of each neuron and result in a vector of all those selected weights."
   ]
  },
  {
   "cell_type": "code",
   "execution_count": 44,
   "id": "1255b0d0-e2ed-4310-8f76-07a4f691236f",
   "metadata": {},
   "outputs": [
    {
     "data": {
      "text/plain": [
       "tensor([ 1.9269,  1.4873,  0.9007, -2.1055,  0.6784, -1.2345, -0.0431, -1.6047,\n",
       "        -0.7521,  1.6487, -0.3925, -1.4036, -0.7279, -0.5594, -0.7688,  0.7624,\n",
       "         1.6423, -0.1596, -0.4974,  0.4396, -0.7581,  1.0783,  0.8008,  1.6806,\n",
       "         1.2791,  1.2964,  0.6105])"
      ]
     },
     "execution_count": 44,
     "metadata": {},
     "output_type": "execute_result"
    }
   ],
   "source": [
    "# This should result in the same values as shown above.\n",
    "Xenc[0] @ W"
   ]
  },
  {
   "cell_type": "markdown",
   "id": "a56317ae-556e-43da-bda6-7230282266c9",
   "metadata": {},
   "source": [
    "Likewise, each other element of Xenc selects the row of W corresponding to the position of the 1 in its one-hot encoding. For example, the input letter \"a\" will select row 1, the input b will select row 2, and so on. Since each letter corresponds to a unique row in the matrix, we want that row to represent the probabilities of each next letter following the input letter that selected it.\n",
    "\n",
    "Right now, however, our weights don't look very much like probabilities. They are negative and don't sum up to 1 (100%). We can fit the issue of negatives by exponentiating the values, making  all the digits positive while keeping values that were negative smaller than values that were positive. Then we can turn this into a probability by summing up each row and setting the weights for that row equal to their fraction of that sum. This process is called the softmax function.\n",
    "\n",
    "<!-- Then if we sum up the rows, we can set each weight equal to its fraction of that sum,  -->\n",
    "\n",
    "<!-- Then making them sum to 1 is a simple matter of setting them all equal to their  -->\n",
    "<!-- To fix this, we will treat the output of our model as logits and apply the softmax function to it. This should result in each row having a sum of 1 (100%). -->\n",
    "\n",
    "<!-- Thus, we'd like the rows to tell us the probability of each letter appearing after the letter that selects that row. -->\n",
    "<!-- Thus, each row can be thought of as the  -->"
   ]
  },
  {
   "cell_type": "code",
   "execution_count": 47,
   "id": "9acc25d7-38a8-45a6-8208-5a6b62d83f0e",
   "metadata": {},
   "outputs": [
    {
     "data": {
      "text/plain": [
       "tensor([[0.1230, 0.0793, 0.0441,  ..., 0.0644, 0.0655, 0.0330],\n",
       "        [0.0396, 0.0698, 0.0227,  ..., 0.0502, 0.0033, 0.0280],\n",
       "        [0.0123, 0.0078, 0.0250,  ..., 0.0340, 0.0149, 0.0053],\n",
       "        ...,\n",
       "        [0.0044, 0.0085, 0.0378,  ..., 0.0071, 0.0041, 0.2970],\n",
       "        [0.0843, 0.0516, 0.0303,  ..., 0.0050, 0.0154, 0.0347],\n",
       "        [0.0435, 0.0354, 0.0071,  ..., 0.2319, 0.0060, 0.0317]])"
      ]
     },
     "execution_count": 47,
     "metadata": {},
     "output_type": "execute_result"
    }
   ],
   "source": [
    "# Get the rows for every input in our dataset.\n",
    "logits = Xenc @ W\n",
    "# After exponentiating, these values can be trained to find the count of each second letter in the bigram.\n",
    "counts = logits.exp()\n",
    "# Sum the column vectors to calculate the sum of each row, then divide each element in the row by the result to get their probabilities.\n",
    "probs = counts / counts.sum(dim=1, keepdims=True)\n",
    "probs"
   ]
  },
  {
   "cell_type": "code",
   "execution_count": 48,
   "id": "94fb1841-b2de-42d4-907b-706e6a3e602d",
   "metadata": {},
   "outputs": [
    {
     "data": {
      "text/plain": [
       "tensor(1.0000)"
      ]
     },
     "execution_count": 48,
     "metadata": {},
     "output_type": "execute_result"
    }
   ],
   "source": [
    "# Now each row should sum to 1.\n",
    "probs[0].sum()"
   ]
  },
  {
   "cell_type": "markdown",
   "id": "91c82c0d-95e6-44d4-9a4e-ad0d3041e0f1",
   "metadata": {},
   "source": [
    "Let's examine our data a bit here so we have a clear idea of what it all means."
   ]
  },
  {
   "cell_type": "code",
   "execution_count": 65,
   "id": "0e5e0c19-d45f-446a-9c39-8bf71bce2bcc",
   "metadata": {},
   "outputs": [
    {
     "data": {
      "text/plain": [
       "torch.Size([228146, 27])"
      ]
     },
     "execution_count": 65,
     "metadata": {},
     "output_type": "execute_result"
    }
   ],
   "source": [
    "# plt.imshow(list(probs))\n",
    "# probs[0]\n",
    "probs.shape"
   ]
  },
  {
   "cell_type": "markdown",
   "id": "1127114c-d8e0-477c-9e68-06be1150f04f",
   "metadata": {},
   "source": [
    "Now we need a way for our model to make predictions. So far it should produce probabilities, but we don't want the results to be deterministic and always give us the letter with the highest probability. At best, that wouldn't be very creative, and at worst that may cause an infinite loop. Instead, we'll use multinomial sampling to select letters randomly based on their weights. \n",
    "\n",
    "<!-- Torch's multinomial method can take a tensor of probabilities and select -->\n",
    "\n",
    "<!-- takes a tensor of probabilities and returns a number of indices randomly chosen based on the probabilities in the input tensor. -->\n",
    "\n",
    "<!-- samples an index from it based on  -->\n",
    "<!-- Multinomial sampling takes a tensor -->\n",
    "\n",
    "<!-- sample from the probabilities using -->\n",
    "\n",
    "<!-- Now that our model is set up, we're ready to train it. For that, we'll need a loss function to minimize. Here we'll use negative log likelihood.  -->"
   ]
  },
  {
   "cell_type": "code",
   "execution_count": 54,
   "id": "0c02689b-ee41-408d-8548-870b9d0e2831",
   "metadata": {},
   "outputs": [
    {
     "data": {
      "text/plain": [
       "tensor([25])"
      ]
     },
     "execution_count": 54,
     "metadata": {},
     "output_type": "execute_result"
    }
   ],
   "source": [
    "gen = torch.Generator().manual_seed(42)\n",
    "\n",
    "# Get probabilities of each letter following \".\".\n",
    "curr_probs = probs[0]\n",
    "\n",
    "# Randomly pick an index based on the weights within those indices.\n",
    "torch.multinomial(curr_probs, num_samples=1, replacement=True, generator=gen)"
   ]
  }
 ],
 "metadata": {
  "kernelspec": {
   "display_name": "Python 3 (ipykernel)",
   "language": "python",
   "name": "python3"
  },
  "language_info": {
   "codemirror_mode": {
    "name": "ipython",
    "version": 3
   },
   "file_extension": ".py",
   "mimetype": "text/x-python",
   "name": "python",
   "nbconvert_exporter": "python",
   "pygments_lexer": "ipython3",
   "version": "3.9.19"
  }
 },
 "nbformat": 4,
 "nbformat_minor": 5
}
