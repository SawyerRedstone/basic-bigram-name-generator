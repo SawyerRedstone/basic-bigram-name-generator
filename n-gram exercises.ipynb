{
 "cells": [
  {
   "cell_type": "markdown",
   "id": "67d41879-2147-47a3-b10e-517a665d14f3",
   "metadata": {},
   "source": [
    "# N-Gram Language Model Exercises\n",
    "Inspired by Andrej Karpathy's first Makemore video. Here I'll try to reproduce what I learned from scratch and add additional features."
   ]
  },
  {
   "cell_type": "markdown",
   "id": "6e798106-4684-4803-a2e8-6215e25e0b71",
   "metadata": {},
   "source": [
    "We'll start by making a bigram language model. We'll train it on names so it learns to produce names of its own based on what it learned from the data."
   ]
  },
  {
   "cell_type": "code",
   "execution_count": 3,
   "id": "01964050-2833-478b-ad93-786d50a5ca49",
   "metadata": {},
   "outputs": [],
   "source": [
    "# PyTorch adds tensors and backpropagation.\n",
    "import torch"
   ]
  },
  {
   "cell_type": "code",
   "execution_count": 10,
   "id": "23da100d-2c5b-47bc-978e-784256ab5774",
   "metadata": {},
   "outputs": [
    {
     "name": "stdout",
     "output_type": "stream",
     "text": [
      "Displaying the first three names: ['emma', 'olivia', 'ava']\n"
     ]
    }
   ],
   "source": [
    "# Create a list of each name in names.txt\n",
    "names = open(\"names.txt\", \"r\").read().splitlines()\n",
    "print(f\"Displaying the first three names: {names[:3]}\")"
   ]
  },
  {
   "cell_type": "markdown",
   "id": "ee68b090-608d-4361-b2bb-9eccf95baf57",
   "metadata": {},
   "source": [
    "Now that we have our data, let's split it into bigrams so the model can learn common letter patterns in names. We also want it to learn how each name starts and ends, so let's indicate the start and end of a name with a \".\"."
   ]
  },
  {
   "cell_type": "code",
   "execution_count": null,
   "id": "626b587d-a305-430b-beb0-56f9ea43f841",
   "metadata": {},
   "outputs": [],
   "source": []
  },
  {
   "cell_type": "code",
   "execution_count": null,
   "id": "2c603aba-d701-4213-a836-1699c9503055",
   "metadata": {},
   "outputs": [],
   "source": [
    "# Actually, DON'T: Make list of each (char1, char2) in names. Or do? Let's try it.\n",
    "# Make list above. Then turn it into two tensor. Now tensor col0 is X and col1 is y.\n",
    "# Feed Xs into the model. Compare true y to the model's prediction. Adjust model."
   ]
  },
  {
   "cell_type": "code",
   "execution_count": 21,
   "id": "623b5c37-ce63-49aa-a6c2-4f5012a9f0eb",
   "metadata": {},
   "outputs": [
    {
     "name": "stdout",
     "output_type": "stream",
     "text": [
      "[('.', 'e'), ('e', 'm'), ('m', 'm'), ('m', 'a'), ('a', '.'), ('.', 'o'), ('o', 'l'), ('l', 'i'), ('i', 'v'), ('v', 'i'), ('i', 'a'), ('a', '.')]\n"
     ]
    }
   ],
   "source": [
    "# bigrams = []\n",
    "\n",
    "# for name in names[:2]:\n",
    "# # for name in names:\n",
    "# # for name in [\"a\", \"bc\"]:\n",
    "#     # Indicate the start and end of a name with '.'.\n",
    "#     name_bigrams = list(zip(\".\" + name, name + \".\"))\n",
    "#     bigrams += name_bigrams\n",
    "    \n",
    "# len(bigrams)\n",
    "# print(bigrams)"
   ]
  },
  {
   "cell_type": "markdown",
   "id": "1f9862de-7eb5-4725-b142-d252dd929ca5",
   "metadata": {},
   "source": [
    "We want this model to take a character as input and predict which character comes next. For that, we want two tensors.\n",
    "\n",
    "X (the input) should contain the first half of the bigrams.\n",
    "\n",
    "y (the label) should contain the solutions, AKA the letter that comes next.\n",
    "\n",
    "Since PyTorch tensors can't contain character elements, let's first assign each letter to an integer value."
   ]
  },
  {
   "cell_type": "code",
   "execution_count": null,
   "id": "cdf36b7f-d875-4eeb-bbc4-3289bfc49833",
   "metadata": {},
   "outputs": [],
   "source": []
  },
  {
   "cell_type": "code",
   "execution_count": 33,
   "id": "f13c442d-cba5-468b-a04a-4f77565dd6c4",
   "metadata": {},
   "outputs": [
    {
     "ename": "ValueError",
     "evalue": "too many dimensions 'str'",
     "output_type": "error",
     "traceback": [
      "\u001b[1;31m---------------------------------------------------------------------------\u001b[0m",
      "\u001b[1;31mValueError\u001b[0m                                Traceback (most recent call last)",
      "Cell \u001b[1;32mIn[33], line 16\u001b[0m\n\u001b[0;32m      9\u001b[0m     y \u001b[38;5;241m+\u001b[39m\u001b[38;5;241m=\u001b[39m \u001b[38;5;28mlist\u001b[39m(name) \u001b[38;5;241m+\u001b[39m [\u001b[38;5;124m\"\u001b[39m\u001b[38;5;124m.\u001b[39m\u001b[38;5;124m\"\u001b[39m]\n\u001b[0;32m     12\u001b[0m \u001b[38;5;66;03m# print(len(X))\u001b[39;00m\n\u001b[0;32m     13\u001b[0m \u001b[38;5;66;03m# print(len(y))\u001b[39;00m\n\u001b[0;32m     14\u001b[0m \u001b[38;5;66;03m# print(X)\u001b[39;00m\n\u001b[0;32m     15\u001b[0m \u001b[38;5;66;03m# print(y)\u001b[39;00m\n\u001b[1;32m---> 16\u001b[0m X \u001b[38;5;241m=\u001b[39m \u001b[43mtorch\u001b[49m\u001b[38;5;241;43m.\u001b[39;49m\u001b[43mtensor\u001b[49m\u001b[43m(\u001b[49m\u001b[43mX\u001b[49m\u001b[43m)\u001b[49m\n",
      "\u001b[1;31mValueError\u001b[0m: too many dimensions 'str'"
     ]
    }
   ],
   "source": [
    "X = [] # First letters in bigrams\n",
    "y = [] # X's bigram pairs.\n",
    "\n",
    "\n",
    "for name in names:\n",
    "    # Add \".\" to the start and end of each name.\n",
    "    X += [\".\"] + list(name)\n",
    "    y += list(name) + [\".\"]\n",
    "\n",
    "    \n",
    "# print(len(X))\n",
    "# print(len(y))\n",
    "# print(X)\n",
    "# print(y)\n",
    "X = torch.tensor(X)\n",
    "# X[:4]"
   ]
  },
  {
   "cell_type": "code",
   "execution_count": null,
   "id": "635632b1-0a3c-46ef-85ed-b875e624eec0",
   "metadata": {},
   "outputs": [],
   "source": [
    "# Make list of [two_letters, following_letter]\n",
    "# Train model with X = [char1, char2] and y = [char3]"
   ]
  }
 ],
 "metadata": {
  "kernelspec": {
   "display_name": "Python 3 (ipykernel)",
   "language": "python",
   "name": "python3"
  },
  "language_info": {
   "codemirror_mode": {
    "name": "ipython",
    "version": 3
   },
   "file_extension": ".py",
   "mimetype": "text/x-python",
   "name": "python",
   "nbconvert_exporter": "python",
   "pygments_lexer": "ipython3",
   "version": "3.9.19"
  }
 },
 "nbformat": 4,
 "nbformat_minor": 5
}
