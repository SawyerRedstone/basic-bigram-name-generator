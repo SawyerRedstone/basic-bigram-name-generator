{
 "cells": [
  {
   "cell_type": "markdown",
   "id": "80f18fb5-fe04-4b17-8a7a-ec2a384361f8",
   "metadata": {},
   "source": [
    "# Visual Exploration of Derivatives"
   ]
  },
  {
   "cell_type": "markdown",
   "id": "4efe9fbd-971d-416c-9f19-c60c91d86028",
   "metadata": {},
   "source": [
    "It is important to understand derivatives to fully grasp the inner workings of a neural network. Here we'll explore derivatives at a visual level (rather than a strictly formula-based one) to best understand its relevance in our ML models.\n",
    "\n",
    "<!-- (This exploration is very much inspired by Andrej Karpathy's video on Micrograd). -->\n",
    "\n",
    "A derivative tells us how sensitive a function's output is to small changes in the input. To help us explore this more in-depth, let's import some basic dependancies."
   ]
  },
  {
   "cell_type": "code",
   "execution_count": 2,
   "id": "8fe10ad6-2ea9-4819-a735-3471d3bfd6f0",
   "metadata": {},
   "outputs": [],
   "source": [
    "import math\n",
    "import numpy as np\n",
    "import matplotlib.pyplot as plt\n",
    "%matplotlib inline"
   ]
  },
  {
   "cell_type": "markdown",
   "id": "904d7876-2c4f-451f-92dd-13d71d9db485",
   "metadata": {},
   "source": [
    "Great, now we're ready to make a simple function to explore. Here I chose the vertical projectile motion formula:\n",
    "\n",
    "$$y = y₀ + v₀yt - (9.8/2)t²$$\n",
    "\n",
    "I'll renamed the function to `height(time)` to make its functonality clear, but the formula will stay the same. In this example, we'll say the ball was thrown upwards from 10 m off the ground with a velocity of 20 m/s. "
   ]
  },
  {
   "cell_type": "code",
   "execution_count": 3,
   "id": "98cdc2b5-e852-4f9e-9b0e-3233a36a837d",
   "metadata": {},
   "outputs": [],
   "source": [
    "def height(time):\n",
    "    \"\"\" Return the height of a ball at a given time. \"\"\"\n",
    "    return 10 + 20 * time - 9.8/2 * time**2"
   ]
  },
  {
   "cell_type": "markdown",
   "id": "7c3432ea-3dd4-45bc-b941-36d14dacb0c1",
   "metadata": {},
   "source": [
    "To get the general idea of this function, let's check where the ball would be at different times."
   ]
  },
  {
   "cell_type": "code",
   "execution_count": 4,
   "id": "406920d0-9146-40c2-baf8-6068daeef5ff",
   "metadata": {},
   "outputs": [
    {
     "name": "stdout",
     "output_type": "stream",
     "text": [
      "The ball's height at time 0.5 is 18.775\n",
      "The ball's height at time 3 is 25.9\n"
     ]
    }
   ],
   "source": [
    "time = 0.5\n",
    "print(f\"The ball's height at time {time} is {height(time)}\")\n",
    "time = 3\n",
    "print(f\"The ball's height at time {time} is {height(time)}\")"
   ]
  },
  {
   "cell_type": "markdown",
   "id": "13c5f8f7-56c3-4328-9dc3-45c0907d7f6f",
   "metadata": {},
   "source": [
    "<!-- We can see that the function's output changed between  -->\n",
    "\n",
    "<!-- Pretty simple, right? So how does calculus tie in?: -->\n",
    "\n",
    "Now that we have a function, let's explore how calculus ties into this. \n",
    "\n",
    "Calculus tells us what happens when we increase the input—in this case, `time`—by a tiny amount. \n",
    "\n",
    "To make this easier to understand, let's try this function with many evenly-spaced values within a small range."
   ]
  },
  {
   "cell_type": "code",
   "execution_count": 5,
   "id": "381f8c2c-fbff-49f6-bd46-c8434c9a3aeb",
   "metadata": {},
   "outputs": [
    {
     "name": "stdout",
     "output_type": "stream",
     "text": [
      "[0.   0.05 0.1  0.15 0.2  0.25 0.3  0.35 0.4  0.45 0.5  0.55 0.6  0.65\n",
      " 0.7  0.75 0.8  0.85 0.9  0.95 1.   1.05 1.1  1.15 1.2  1.25 1.3  1.35\n",
      " 1.4  1.45 1.5  1.55 1.6  1.65 1.7  1.75 1.8  1.85 1.9  1.95 2.   2.05\n",
      " 2.1  2.15 2.2  2.25 2.3  2.35 2.4  2.45 2.5  2.55 2.6  2.65 2.7  2.75\n",
      " 2.8  2.85 2.9  2.95 3.   3.05 3.1  3.15 3.2  3.25 3.3  3.35 3.4  3.45\n",
      " 3.5  3.55 3.6  3.65 3.7  3.75 3.8  3.85 3.9  3.95 4.   4.05 4.1  4.15\n",
      " 4.2  4.25 4.3  4.35 4.4  4.45 4.5  4.55 4.6  4.65 4.7  4.75 4.8  4.85\n",
      " 4.9  4.95 5.  ]\n"
     ]
    }
   ],
   "source": [
    "# Make an array of 101 evenly-spaced values to try in the function.\n",
    "times = np.linspace(0, 5, 101)\n",
    "print(times)"
   ]
  },
  {
   "cell_type": "markdown",
   "id": "12757e0e-fd71-42d8-bebd-0db42ffa3a6a",
   "metadata": {},
   "source": [
    "Now let's see the results we get when we input these values into our function."
   ]
  },
  {
   "cell_type": "code",
   "execution_count": 6,
   "id": "3a576497-09a1-4fac-b253-89711cb0531f",
   "metadata": {},
   "outputs": [
    {
     "name": "stdout",
     "output_type": "stream",
     "text": [
      "[ 10.       10.98775  11.951    12.88975  13.804    14.69375  15.559\n",
      "  16.39975  17.216    18.00775  18.775    19.51775  20.236    20.92975\n",
      "  21.599    22.24375  22.864    23.45975  24.031    24.57775  25.1\n",
      "  25.59775  26.071    26.51975  26.944    27.34375  27.719    28.06975\n",
      "  28.396    28.69775  28.975    29.22775  29.456    29.65975  29.839\n",
      "  29.99375  30.124    30.22975  30.311    30.36775  30.4      30.40775\n",
      "  30.391    30.34975  30.284    30.19375  30.079    29.93975  29.776\n",
      "  29.58775  29.375    29.13775  28.876    28.58975  28.279    27.94375\n",
      "  27.584    27.19975  26.791    26.35775  25.9      25.41775  24.911\n",
      "  24.37975  23.824    23.24375  22.639    22.00975  21.356    20.67775\n",
      "  19.975    19.24775  18.496    17.71975  16.919    16.09375  15.244\n",
      "  14.36975  13.471    12.54775  11.6      10.62775   9.631     8.60975\n",
      "   7.564     6.49375   5.399     4.27975   3.136     1.96775   0.775\n",
      "  -0.44225  -1.684    -2.95025  -4.241    -5.55625  -6.896    -8.26025\n",
      "  -9.649   -11.06225 -12.5    ]\n"
     ]
    }
   ],
   "source": [
    "# We can use the function on the full array at once thanks to NumPy's broadcasting.\n",
    "heights = height(times)\n",
    "print(heights)"
   ]
  },
  {
   "cell_type": "markdown",
   "id": "ebacd4bf-a758-4a7f-8e9a-63af9b1c3d64",
   "metadata": {},
   "source": [
    "It's tricky to see what is going on with those numbers. Luckily, we can make this much easier to follow by making a simple graph showing the ball's height different times."
   ]
  },
  {
   "cell_type": "code",
   "execution_count": 27,
   "id": "8d9dbbee-3238-4551-b5ed-a896e6493ee4",
   "metadata": {},
   "outputs": [
    {
     "data": {
      "text/plain": [
       "[<matplotlib.lines.Line2D at 0x210c0ed69d0>]"
      ]
     },
     "execution_count": 27,
     "metadata": {},
     "output_type": "execute_result"
    },
    {
     "data": {
      "image/png": "[encoded data removed]",
      "text/plain": [
       "<Figure size 640x480 with 1 Axes>"
      ]
     },
     "metadata": {},
     "output_type": "display_data"
    }
   ],
   "source": [
    "plt.xlabel(\"Time\")\n",
    "plt.ylabel(\"Height\")\n",
    "plt.plot(times, heights)"
   ]
  },
  {
   "cell_type": "markdown",
   "id": "489746ce-0191-49d2-905c-d21f27a58991",
   "metadata": {},
   "source": [
    "As was previously mentioned, a derivative tells us how sensitive a function's output is to small changes in the input. What that means is that if we start with a certain input (say, `time = 1`) and increase it by some incredibly small amount, the derivative tells us how much that slight nudge will change the output. In the case of this example function, we can use the derivative to see how much the ball moves between `time = 1` and some slight moment later.\n",
    "\n",
    "Formally, the definition of the derivative looks like this:\n",
    "\n",
    "$$\\lim_{h \\to 0} \\frac{f(a+h) - f(a)}{h}$$\n",
    "\n",
    "Here, the function $f$ represents our `height` function. $a$ is the input we're choosing to zoom in on, which in the case of our function would be the selected `time` we wish to explore. $h$ is the incredibly small amount that we will nudge that chosen input to determine how much that change impacts the output (the ball's position). The $h \\to 0$ means that h should be so small that it is nearing 0.\n",
    "\n",
    "<!-- (in our case, this would be the time we are testing) -->\n",
    "\n",
    "<!-- where $a$ is the input  -->\n",
    "\n",
    "<!-- We'll break this formula down in a moment to make it more intuitive, but first let's go over what the formula is supposed to tell us. -->\n",
    "\n",
    "<!-- This formula tells us how much the output (height)  -->\n",
    "\n",
    "<!-- Let's break this formula down to make it more intuitive. -->\n",
    "\n",
    "<!-- If we choose some input $a$ (or in our case, $time$) and increase it by some incredibly small amount $h$, this formula shows us how much that slight nudge impacts the output. -->"
   ]
  },
  {
   "cell_type": "markdown",
   "id": "13a80528-1360-49d7-adff-87e1fc2163f0",
   "metadata": {},
   "source": [
    "Now that we understand the purpose of the formula, let's break down how the formula tells us that information. To do that, let's pick the time we will explore in the ball's motion. Here we'll check the ball's position at time 1. "
   ]
  },
  {
   "cell_type": "code",
   "execution_count": 33,
   "id": "de369ca8-4045-4153-bfdf-2df7dbe39dfd",
   "metadata": {},
   "outputs": [
    {
     "data": {
      "text/plain": [
       "<matplotlib.collections.PathCollection at 0x210c52559d0>"
      ]
     },
     "execution_count": 33,
     "metadata": {},
     "output_type": "execute_result"
    },
    {
     "data": {
      "image/png": "[encoded data removed]",
      "text/plain": [
       "<Figure size 640x480 with 1 Axes>"
      ]
     },
     "metadata": {},
     "output_type": "display_data"
    }
   ],
   "source": [
    "# Using the same graph, let's see the height at time 1.\n",
    "plt.plot(times, heights)\n",
    "plt.scatter([1], [height(1)], color=\"red\")"
   ]
  },
  {
   "cell_type": "markdown",
   "id": "e1001500-eefe-4133-ab41-786ca2bc1d56",
   "metadata": {},
   "source": [
    "From the graph, we can see that the ball's height when time is 1 is approximately 25. Let's find the exact value."
   ]
  },
  {
   "cell_type": "code",
   "execution_count": 19,
   "id": "6dac6a74-88c2-485e-955d-f994d6b514f3",
   "metadata": {},
   "outputs": [
    {
     "data": {
      "text/plain": [
       "25.1"
      ]
     },
     "execution_count": 19,
     "metadata": {},
     "output_type": "execute_result"
    }
   ],
   "source": [
    "# Using `a` for the time to match the derivative definition.\n",
    "a = 1\n",
    "height(a)"
   ]
  },
  {
   "cell_type": "markdown",
   "id": "33d6b723-ec34-46f8-9dda-058dbbbbb458",
   "metadata": {},
   "source": [
    "From the graph, it seems that increasing `a` slightly would increase the ball's position. To confirm, let's check the ball's position 0.001 seconds later."
   ]
  },
  {
   "cell_type": "code",
   "execution_count": 38,
   "id": "aa58eb64-2808-4842-a094-586fb1123250",
   "metadata": {},
   "outputs": [
    {
     "name": "stdout",
     "output_type": "stream",
     "text": [
      "After slightly increasing the time, the ball's new height is now 25.1101951.\n"
     ]
    }
   ],
   "source": [
    "# h is the amount we nudge the input by.\n",
    "h = 0.001\n",
    "new_height = height(a + h)\n",
    "\n",
    "print(f\"After slightly increasing the time, the ball's new height is now {new_height}.\")"
   ]
  },
  {
   "cell_type": "markdown",
   "id": "4c8855c6-04e3-457b-8809-46ddf01c8b4c",
   "metadata": {},
   "source": [
    "<!-- The number we got now is a bit larger than it was before, so we can tell that  -->\n",
    "\n",
    "As expected from what we can see on the graph, the ball at this new time is slightly higher than it was just earlier. What if we nudged the chosen time `a` by an even smaller value, say, 0.00000001?"
   ]
  },
  {
   "cell_type": "code",
   "execution_count": 21,
   "id": "34501cc4-fb7a-479b-964b-e7f7271b659d",
   "metadata": {},
   "outputs": [
    {
     "data": {
      "text/plain": [
       "25.100000102"
      ]
     },
     "execution_count": 21,
     "metadata": {},
     "output_type": "execute_result"
    }
   ],
   "source": [
    "# h is the amount we nudge the input by.\n",
    "h = 0.00000001\n",
    "height(a + h)"
   ]
  },
  {
   "cell_type": "markdown",
   "id": "6d797581-5a9c-489a-b03f-c872e13672bd",
   "metadata": {},
   "source": [
    "Unsurprisingly, that also increased the ball's height, albeit by a smaller amount than before. The derivative finds out how much the position changes when h is infinitely small, but 0.00000001 is small enough an example for our exploration. To find out exactly how much the ball moved between time `a` and time `a + h` (the time slightly after time `a`), we can subtract the original position from the newly shifted position, like so:\n",
    "\n",
    "$$height(a + h) - height(a)$$"
   ]
  },
  {
   "cell_type": "code",
   "execution_count": 22,
   "id": "818afeba-df14-4332-8d1a-cc63cdb30642",
   "metadata": {},
   "outputs": [
    {
     "data": {
      "text/plain": [
       "1.019999977813768e-07"
      ]
     },
     "execution_count": 23,
     "metadata": {},
     "output_type": "execute_result"
    }
   ],
   "source": [
    "# Find out how much the height changed.\n",
    "height(a + h) - height(a)"
   ]
  },
  {
   "cell_type": "markdown",
   "id": "d58ae464-a957-4ea1-a3a6-231a55a106c6",
   "metadata": {},
   "source": [
    "Then, since we shifted over by $h$, we'll need to divide by $h$ to find out how much the height shifted over a single unit of time. That gives us this formula:\n",
    "\n",
    "$$\\frac{f(a+h) - f(a)}{h}$$"
   ]
  },
  {
   "cell_type": "code",
   "execution_count": 25,
   "id": "7459006d-404d-4956-af82-ee86b2ac283d",
   "metadata": {},
   "outputs": [
    {
     "data": {
      "text/plain": [
       "10.19999977813768"
      ]
     },
     "execution_count": 25,
     "metadata": {},
     "output_type": "execute_result"
    }
   ],
   "source": [
    "# Let's find how much it changed in a single unit of time.\n",
    "(height(a + h) - height(a)) / h"
   ]
  },
  {
   "cell_type": "markdown",
   "id": "fc820d16-ac74-486e-9c85-ab3c9b5dbebc",
   "metadata": {},
   "source": [
    "Of course, ideally we'd want $h$ even smaller, so small that it approaches 0. To show that, we'd write the formula like so:\n",
    "\n",
    "$$\\lim_{h \\to 0} \\frac{f(a+h) - f(a)}{h}$$\n",
    "\n",
    "And with that, we've just derived the formula for finding a derivative."
   ]
  },
  {
   "cell_type": "markdown",
   "id": "352fb23f-ad77-41cd-97fb-b9cb47a11176",
   "metadata": {},
   "source": [
    "<!-- In machine learning, derivatives are very important to optimizing our model parameters. They tell us how much a small adjustment to  -->\n",
    "\n",
    "BONUS: \n",
    "\n",
    "Since derivatives are all about finding how much a small change to an input impacts the output, this makes them incredibly useful for machine learning. Neural networks in ML rely on many parameters that impact the final result of the model. In order to optimize those values, we need to know how much a small change in one of the parameters will impact the final result of the model. And as we've just seen, we can use derivatives to find exactly that. Once we find the derivative of the parameter, we can make slight adjustments to that parameter in the direction that most optimizes our model. This process is called gradient descent.\n",
    "\n",
    "<!-- We want to optimize those parameters, and to do that, we  -->"
   ]
  }
 ],
 "metadata": {
  "kernelspec": {
   "display_name": "Python 3 (ipykernel)",
   "language": "python",
   "name": "python3"
  },
  "language_info": {
   "codemirror_mode": {
    "name": "ipython",
    "version": 3
   },
   "file_extension": ".py",
   "mimetype": "text/x-python",
   "name": "python",
   "nbconvert_exporter": "python",
   "pygments_lexer": "ipython3",
   "version": "3.9.19"
  }
 },
 "nbformat": 4,
 "nbformat_minor": 5
}
